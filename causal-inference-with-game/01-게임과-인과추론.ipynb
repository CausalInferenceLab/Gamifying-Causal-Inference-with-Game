{
 "cells": [
  {
   "attachments": {},
   "cell_type": "markdown",
   "metadata": {
    "pycharm": {
     "name": "#%% md\n"
    }
   },
   "source": [
    "# 01 - 게임과 인과추론\n",
    "\n",
    "\n",
    "## 분석가가 자주 받는 질문 No.1\n",
    "\n",
    "\n",
    "## 분석가가 답을 할 수 있는 질문 vs 답을 할 수 없는 질문\n",
    "\n",
    "\n",
    "## 게임회사에서 마주하는 실험설계\n",
    "\n",
    "\n",
    "## 인과적 사고방식이 필요한 이유\n",
    "\n"
   ]
  },
  {
   "cell_type": "code",
   "execution_count": 1,
   "metadata": {
    "pycharm": {
     "name": "#%%\n"
    },
    "tags": [
     "hide-input"
    ]
   },
   "outputs": [],
   "source": [
    "import pandas as pd\n",
    "import numpy as np"
   ]
  }
 ],
 "metadata": {
  "kernelspec": {
   "display_name": "Python 3.9.7 ('Workspace_JS')",
   "language": "python",
   "name": "python3"
  },
  "language_info": {
   "codemirror_mode": {
    "name": "ipython",
    "version": 3
   },
   "file_extension": ".py",
   "mimetype": "text/x-python",
   "name": "python",
   "nbconvert_exporter": "python",
   "pygments_lexer": "ipython3",
   "version": "3.9.7"
  },
  "orig_nbformat": 4,
  "vscode": {
   "interpreter": {
    "hash": "a812027cb36d52afc6bf34b1f842ed1960d479f5dea7272b4a52eb53764f32d8"
   }
  }
 },
 "nbformat": 4,
 "nbformat_minor": 2
}
